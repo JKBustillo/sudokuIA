{
  "nbformat": 4,
  "nbformat_minor": 0,
  "metadata": {
    "colab": {
      "name": "sudoku",
      "provenance": [],
      "collapsed_sections": []
    },
    "kernelspec": {
      "name": "python3",
      "display_name": "Python 3"
    }
  },
  "cells": [
    {
      "cell_type": "code",
      "metadata": {
        "id": "H3rTry6UdIBD",
        "colab_type": "code",
        "outputId": "0632373e-f96c-4066-f52f-6a846733eb0a",
        "colab": {
          "base_uri": "https://localhost:8080/",
          "height": 170
        }
      },
      "source": [
        "import numpy as np\n",
        "sudoku = open('sudoku.txt', 'r')\n",
        "m = np.zeros((9,9))\n",
        "i = 0\n",
        "for linea in sudoku.readlines():\n",
        "  if (linea[0:1] != '*'): m[i,0] = linea[0:1]\n",
        "  if (linea[1:2] != '*'): m[i,1] = linea[1:2]\n",
        "  if (linea[2:3] != '*'): m[i,2] = linea[2:3]\n",
        "  if (linea[3:4] != '*'): m[i,3] = linea[3:4]\n",
        "  if (linea[4:5] != '*'): m[i,4] = linea[4:5]\n",
        "  if (linea[5:6] != '*'): m[i,5] = linea[5:6]\n",
        "  if (linea[6:7] != '*'): m[i,6] = linea[6:7]\n",
        "  if (linea[7:8] != '*'): m[i,7] = linea[7:8]\n",
        "  if (linea[8:9] != '*'): m[i,8] = linea[8:9]\n",
        "  i = i + 1\n",
        "print(m)\n",
        "sudoku.close() "
      ],
      "execution_count": 41,
      "outputs": [
        {
          "output_type": "stream",
          "text": [
            "[[0. 9. 0. 0. 8. 0. 3. 6. 0.]\n",
            " [0. 7. 6. 0. 0. 4. 0. 0. 0.]\n",
            " [2. 5. 8. 3. 6. 0. 0. 0. 0.]\n",
            " [6. 0. 0. 0. 3. 0. 2. 0. 0.]\n",
            " [0. 0. 0. 0. 0. 9. 0. 1. 8.]\n",
            " [8. 0. 0. 6. 0. 0. 0. 0. 0.]\n",
            " [7. 0. 2. 0. 1. 0. 0. 0. 9.]\n",
            " [4. 8. 0. 0. 9. 0. 0. 0. 6.]\n",
            " [0. 0. 5. 7. 0. 2. 0. 0. 0.]]\n"
          ],
          "name": "stdout"
        }
      ]
    }
  ]
}